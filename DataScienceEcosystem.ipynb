{
 "cells": [
  {
   "cell_type": "markdown",
   "id": "2cd0ab2c-a5a1-44b8-9d62-109269f7ee0d",
   "metadata": {},
   "source": [
    "# Data Science Tools and Ecosystem"
   ]
  },
  {
   "cell_type": "markdown",
   "id": "90cca709-c99d-40ad-928d-7c5b29225a7b",
   "metadata": {},
   "source": [
    "## Author\n",
    "Jerry L"
   ]
  },
  {
   "cell_type": "markdown",
   "id": "d31b9d5f-54d7-4d76-ab42-e00836633c52",
   "metadata": {},
   "source": [
    "In this notebook, Data Science Tools and Ecosystem are summarized."
   ]
  },
  {
   "cell_type": "markdown",
   "id": "c85efe20-24e4-418b-bb8d-4a5707618a65",
   "metadata": {},
   "source": [
    "**Objectives**\n",
    "* List popular languages for data science\n",
    "* List commonly used libraries for data science\n",
    "* List commonly used data science tools"
   ]
  },
  {
   "cell_type": "markdown",
   "id": "4c78795d-7484-4f5e-be8c-81bf4eab05de",
   "metadata": {},
   "source": [
    "Some of the popular languages that Data Scientists use are:\n",
    "1. Python\n",
    "2. SQL\n",
    "3. R"
   ]
  },
  {
   "cell_type": "markdown",
   "id": "d4e1e3a2-3f80-4b54-a296-725fdbd40687",
   "metadata": {},
   "source": [
    "Some of the commonly used libraries used by Data Scientists include:\n",
    "1. Pandas\n",
    "2. Numpy\n",
    "3. TensorFlow"
   ]
  },
  {
   "cell_type": "markdown",
   "id": "783d50ba-76c7-4732-acc3-b5ea7221f4ce",
   "metadata": {},
   "source": [
    "|Data Science Tools|\n",
    "|-|\n",
    "|RStudio|\n",
    "|Jupyter Notebook|\n",
    "|Apache Spark|"
   ]
  },
  {
   "cell_type": "markdown",
   "id": "88bc5bf7-f2c3-4173-a6ab-01091a52502c",
   "metadata": {},
   "source": [
    "### Below are a few examples of evaluating arithmetic expressions in Python."
   ]
  },
  {
   "cell_type": "code",
   "execution_count": 10,
   "id": "fea56e59-47d7-43cb-813a-d94dbc8f46df",
   "metadata": {},
   "outputs": [
    {
     "data": {
      "text/plain": [
       "17"
      ]
     },
     "execution_count": 10,
     "metadata": {},
     "output_type": "execute_result"
    }
   ],
   "source": [
    "# This is a simple arithmetic expression to multiply then add integers.\n",
    "(3*4)+5"
   ]
  },
  {
   "cell_type": "code",
   "execution_count": 12,
   "id": "a9915cf4-6df2-43b5-a8a0-82f959468dbd",
   "metadata": {},
   "outputs": [
    {
     "data": {
      "text/plain": [
       "3.3333333333333335"
      ]
     },
     "execution_count": 12,
     "metadata": {},
     "output_type": "execute_result"
    }
   ],
   "source": [
    "# This will convert 200 minutes to hours by dividing by 60\n",
    "200/60"
   ]
  },
  {
   "cell_type": "code",
   "execution_count": null,
   "id": "6e262590-312e-4b75-bad2-8814ae4bb063",
   "metadata": {},
   "outputs": [],
   "source": []
  }
 ],
 "metadata": {
  "kernelspec": {
   "display_name": "Python [conda env:base] *",
   "language": "python",
   "name": "conda-base-py"
  },
  "language_info": {
   "codemirror_mode": {
    "name": "ipython",
    "version": 3
   },
   "file_extension": ".py",
   "mimetype": "text/x-python",
   "name": "python",
   "nbconvert_exporter": "python",
   "pygments_lexer": "ipython3",
   "version": "3.12.7"
  }
 },
 "nbformat": 4,
 "nbformat_minor": 5
}
